{
 "cells": [
  {
   "cell_type": "markdown",
   "metadata": {},
   "source": [
    "# Summary\n",
    "\n",
    "This notebook is to demonstrate model inversion with Danish groundwater management. "
   ]
  },
  {
   "cell_type": "markdown",
   "metadata": {},
   "source": [
    "# Load data"
   ]
  },
  {
   "cell_type": "code",
   "execution_count": 15,
   "metadata": {},
   "outputs": [],
   "source": [
    "addpath('./DanishCase_NewData'); % old data are in /DanishCase_old\n",
    "load Parameters.mat; load Forecasts.mat; load Data.mat\n",
    "ParametersNames={'ma','kh1','kh2','kh3',...\n",
    "    'ch1','ch2','ch3','ch4','ch5','riv1'...\n",
    "    ,'riv2','riv3','riv4','riv\\_elev1','riv\\_elev2','riv\\_elev3',...\n",
    "    'riv\\_elev4','drn1','drn2','drn3','drn4','drn\\_elev1','drn\\_elev2',...\n",
    "    'drn\\_elev3','drn\\_elev4','rch1','bud\\_in'};"
   ]
  },
  {
   "cell_type": "markdown",
   "metadata": {},
   "source": [
    "# Apply mixed PCA to data variables"
   ]
  },
  {
   "cell_type": "code",
   "execution_count": 16,
   "metadata": {},
   "outputs": [
    {
     "name": "stdout",
     "output_type": "stream",
     "text": [
      "Warning: Columns of X are linearly dependent to within machine precision.\n",
      "Using only the first 345 components to compute TSQUARED.\n",
      "> In pca>localTSquared (line 511)\n",
      "  In pca (line 357)\n"
     ]
    }
   ],
   "source": [
    "HeadDataOriginal=HeadData; % Copy the original data\n",
    "Head=HeadDataOriginal(:,1:364); \n",
    "StreamFlow=HeadData(:,365:367);\n",
    "[PCA1.coeff,PCA1.score,PCA1.EVs,~,PCA1.Explained]=pca(Head); PCA1.VarCumulative=cumsum(PCA1.Explained);\n",
    "[PCA2.coeff,PCA2.score,PCA2.EVs,~,PCA2.Explained]=pca(StreamFlow); PCA2.VarCumulative=cumsum(PCA2.Explained);\n",
    "PCA1.score=PCA1.score/sqrt(PCA1.EVs(1)); PCA2.score=PCA2.score/sqrt(PCA2.EVs(1));\n",
    "\n",
    "Data_PC = [(PCA1.score),(PCA2.score)];"
   ]
  },
  {
   "cell_type": "code",
   "execution_count": 17,
   "metadata": {},
   "outputs": [
    {
     "name": "stdout",
     "output_type": "stream",
     "text": [
      "Warning: Columns of X are linearly dependent to within machine precision.\n",
      "Using only the first 348 components to compute TSQUARED.\n",
      "> In pca>localTSquared (line 511)\n",
      "  In pca (line 357)\n"
     ]
    }
   ],
   "source": [
    "[PCAInfo.coeff, PCAInfo.score,PCAInfo.EVs,~,PCAInfo.Explained]=pca(Data_PC);\n",
    "PCAInfo.VarCumulative=cumsum(PCAInfo.Explained);\n",
    "PCAInfo.CutOff=.99;\n",
    "PCAInfo.HowMany=find(PCAInfo.VarCumulative>(PCAInfo.CutOff*100)); \n",
    "PCAInfo.HowMany=PCAInfo.HowMany(1);"
   ]
  },
  {
   "cell_type": "markdown",
   "metadata": {},
   "source": [
    "Visualize two PCs"
   ]
  },
  {
   "cell_type": "code",
   "execution_count": 18,
   "metadata": {},
   "outputs": [
    {
     "data": {
      "image/png": "[encoded data removed]",
      "text/plain": [
       "<IPython.core.display.Image object>"
      ]
     },
     "metadata": {},
     "output_type": "display_data"
    }
   ],
   "source": [
    "%% Visualize PCA Results.\n",
    "DisplayPCAScores(PCAInfo.score,PCAInfo.Explained,'PCA on HeadData',40);\n",
    "hold on; plot(PCAInfo.score(1,1),PCAInfo.score(1,2),'x','Color','k','Markersize',30,'LineWidth',3);"
   ]
  },
  {
   "cell_type": "markdown",
   "metadata": {},
   "source": [
    "# Prepare training/test data\n",
    "\n",
    "First set aside the reference"
   ]
  },
  {
   "cell_type": "code",
   "execution_count": 19,
   "metadata": {},
   "outputs": [],
   "source": [
    "Data.All.Idx.TruthRealization=1;\n",
    "Data.All.NParams=length(ParametersNames);\n",
    "% If outlier is not removed\n",
    "[Data.All.N, Data.All.k]=size(Data_PC); % 995 x 367 saved here.\n",
    "\n",
    "Data.All.Idx.AllbutTruth=setdiff(1:Data.All.N, Data.All.Idx.TruthRealization); % "
   ]
  },
  {
   "cell_type": "markdown",
   "metadata": {},
   "source": [
    "Split train/test dataset "
   ]
  },
  {
   "cell_type": "code",
   "execution_count": 20,
   "metadata": {},
   "outputs": [],
   "source": [
    "\n",
    "Data.Train.Prop=.8; % \n",
    "Data.Train.N=round(length(Data.All.Idx.AllbutTruth)*Data.Train.Prop); % # of training examples.\n",
    "Data.Test.N=length(Data.All.Idx.AllbutTruth)-Data.Train.N;\n",
    "Data.Train.SplitSeed=11; rng(Data.Train.SplitSeed); % For reproducibility.\n",
    "\n",
    "Data.Train.SampledIdx=randsample(1:length(Data.All.Idx.AllbutTruth),Data.Train.N); % This is the right sentence.\n",
    "Data.Test.SampledIdx=setdiff(1:length(Data.All.Idx.AllbutTruth), Data.Train.SampledIdx);\n",
    "\n",
    "\n",
    "Data.Train.X=ParamsValues(Data.Train.SampledIdx,:);\n",
    "Data.Test.X=ParamsValues(Data.Test.SampledIdx,:);\n",
    "\n",
    "\n",
    "Data.Train.Y_raw=PCAInfo.score(Data.Train.SampledIdx+1,1:PCAInfo.HowMany); \n",
    "Data.Test.Y_raw=PCAInfo.score(Data.Test.SampledIdx+1,1:PCAInfo.HowMany); \n",
    "Data.dobs=PCAInfo.score(Data.All.Idx.TruthRealization,1:PCAInfo.HowMany);\n",
    "\n"
   ]
  },
  {
   "cell_type": "markdown",
   "metadata": {},
   "source": [
    "# Define y as L2 norm mismatch"
   ]
  },
  {
   "cell_type": "code",
   "execution_count": 21,
   "metadata": {},
   "outputs": [],
   "source": [
    "Data.Train.Y=Data.Train.Y_raw-repmat(Data.dobs,Data.Train.N,1);\n",
    "Data.Test.Y=Data.Test.Y_raw-repmat(Data.dobs,Data.Test.N,1);\n",
    "\n",
    "Data.Train.Y=sqrt(sum(Data.Train.Y.^2,2)); \n",
    "Data.Test.Y=sqrt(sum(Data.Test.Y.^2,2)); \n",
    "\n"
   ]
  },
  {
   "cell_type": "code",
   "execution_count": null,
   "metadata": {},
   "outputs": [],
   "source": []
  }
 ],
 "metadata": {
  "kernelspec": {
   "display_name": "Matlab",
   "language": "matlab",
   "name": "matlab"
  },
  "language_info": {
   "codemirror_mode": "octave",
   "file_extension": ".m",
   "help_links": [
    {
     "text": "MetaKernel Magics",
     "url": "https://metakernel.readthedocs.io/en/latest/source/README.html"
    }
   ],
   "mimetype": "text/x-octave",
   "name": "matlab",
   "version": "0.16.7"
  }
 },
 "nbformat": 4,
 "nbformat_minor": 2
}
